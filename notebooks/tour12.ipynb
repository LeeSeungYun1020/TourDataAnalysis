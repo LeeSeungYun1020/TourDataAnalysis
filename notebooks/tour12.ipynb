{
 "cells": [
  {
   "cell_type": "code",
   "execution_count": 1,
   "outputs": [],
   "source": [
    "import pandas as pd"
   ],
   "metadata": {
    "collapsed": false,
    "pycharm": {
     "name": "#%%\n"
    }
   }
  },
  {
   "cell_type": "code",
   "execution_count": 14,
   "outputs": [
    {
     "data": {
      "text/plain": "   contentid  contenttypeid  booktour   createdtime  \\\n0    2611482             12       0.0  2.020000e+13   \n1    1825057             12       0.0  2.010000e+13   \n2    1825460             12       0.0  2.010000e+13   \n3     127699             12       0.0  2.000000e+13   \n4    2614315             12       0.0  2.020000e+13   \n\n                                            homepage  modifiedtime  tel  \\\n0  <a href=\"http://www.yangcheon.go.kr/site/yangc...  2.020000e+13  NaN   \n1  <a href=\"http://mfis.mpva.go.kr/main/main.do\" ...  2.020000e+13  NaN   \n2                                                NaN  2.020000e+13  NaN   \n3  <a href=\"https://www.63art.co.kr/home/63ART/ma...  2.020000e+13  NaN   \n4  <a href=\"https://blog.naver.com/playzone1\" tar...  2.020000e+13  NaN   \n\n  telname         title                                         firstimage  \\\n0     NaN  150년 수령 느티나무  http://tong.visitkorea.or.kr/cms/resource/79/2...   \n1     NaN    3.1독립선언기념탑  http://tong.visitkorea.or.kr/cms/resource/97/2...   \n2     NaN    3.1독립운동기념탑  http://tong.visitkorea.or.kr/cms/resource/93/1...   \n3     NaN         63스퀘어  http://tong.visitkorea.or.kr/cms/resource/86/2...   \n4     NaN         AHC스파  http://tong.visitkorea.or.kr/cms/resource/05/2...   \n\n   ... expguide  heritage1  heritage2 heritage3    infocenter       opendate  \\\n0  ...      NaN        0.0        0.0       0.0  02-2620-3407            NaN   \n1  ...      NaN        0.0        0.0       0.0     1577-0606            NaN   \n2  ...      NaN        0.0        0.0       0.0     1577-0606            NaN   \n3  ...      NaN        0.0        0.0       0.0     1833-7001  1985년 07월 27일   \n4  ...      NaN        0.0        0.0       0.0   02-541-8239            NaN   \n\n           parking   restdate useseason                  usetime  \n0              NaN       연중무휴       NaN                      NaN  \n1               있음       연중개방       NaN                    상시 개방  \n2              NaN       연중무휴       NaN                      NaN  \n3  있음(약 800여 대 가능)       연중무휴       NaN  ※ 월별로 운영시간 다르므로 홈페이지 참조  \n4              NaN  매주 월요일 휴무       NaN            10:00 ~ 21:00  \n\n[5 rows x 38 columns]",
      "text/html": "<div>\n<style scoped>\n    .dataframe tbody tr th:only-of-type {\n        vertical-align: middle;\n    }\n\n    .dataframe tbody tr th {\n        vertical-align: top;\n    }\n\n    .dataframe thead th {\n        text-align: right;\n    }\n</style>\n<table border=\"1\" class=\"dataframe\">\n  <thead>\n    <tr style=\"text-align: right;\">\n      <th></th>\n      <th>contentid</th>\n      <th>contenttypeid</th>\n      <th>booktour</th>\n      <th>createdtime</th>\n      <th>homepage</th>\n      <th>modifiedtime</th>\n      <th>tel</th>\n      <th>telname</th>\n      <th>title</th>\n      <th>firstimage</th>\n      <th>...</th>\n      <th>expguide</th>\n      <th>heritage1</th>\n      <th>heritage2</th>\n      <th>heritage3</th>\n      <th>infocenter</th>\n      <th>opendate</th>\n      <th>parking</th>\n      <th>restdate</th>\n      <th>useseason</th>\n      <th>usetime</th>\n    </tr>\n  </thead>\n  <tbody>\n    <tr>\n      <th>0</th>\n      <td>2611482</td>\n      <td>12</td>\n      <td>0.0</td>\n      <td>2.020000e+13</td>\n      <td>&lt;a href=\"http://www.yangcheon.go.kr/site/yangc...</td>\n      <td>2.020000e+13</td>\n      <td>NaN</td>\n      <td>NaN</td>\n      <td>150년 수령 느티나무</td>\n      <td>http://tong.visitkorea.or.kr/cms/resource/79/2...</td>\n      <td>...</td>\n      <td>NaN</td>\n      <td>0.0</td>\n      <td>0.0</td>\n      <td>0.0</td>\n      <td>02-2620-3407</td>\n      <td>NaN</td>\n      <td>NaN</td>\n      <td>연중무휴</td>\n      <td>NaN</td>\n      <td>NaN</td>\n    </tr>\n    <tr>\n      <th>1</th>\n      <td>1825057</td>\n      <td>12</td>\n      <td>0.0</td>\n      <td>2.010000e+13</td>\n      <td>&lt;a href=\"http://mfis.mpva.go.kr/main/main.do\" ...</td>\n      <td>2.020000e+13</td>\n      <td>NaN</td>\n      <td>NaN</td>\n      <td>3.1독립선언기념탑</td>\n      <td>http://tong.visitkorea.or.kr/cms/resource/97/2...</td>\n      <td>...</td>\n      <td>NaN</td>\n      <td>0.0</td>\n      <td>0.0</td>\n      <td>0.0</td>\n      <td>1577-0606</td>\n      <td>NaN</td>\n      <td>있음</td>\n      <td>연중개방</td>\n      <td>NaN</td>\n      <td>상시 개방</td>\n    </tr>\n    <tr>\n      <th>2</th>\n      <td>1825460</td>\n      <td>12</td>\n      <td>0.0</td>\n      <td>2.010000e+13</td>\n      <td>NaN</td>\n      <td>2.020000e+13</td>\n      <td>NaN</td>\n      <td>NaN</td>\n      <td>3.1독립운동기념탑</td>\n      <td>http://tong.visitkorea.or.kr/cms/resource/93/1...</td>\n      <td>...</td>\n      <td>NaN</td>\n      <td>0.0</td>\n      <td>0.0</td>\n      <td>0.0</td>\n      <td>1577-0606</td>\n      <td>NaN</td>\n      <td>NaN</td>\n      <td>연중무휴</td>\n      <td>NaN</td>\n      <td>NaN</td>\n    </tr>\n    <tr>\n      <th>3</th>\n      <td>127699</td>\n      <td>12</td>\n      <td>0.0</td>\n      <td>2.000000e+13</td>\n      <td>&lt;a href=\"https://www.63art.co.kr/home/63ART/ma...</td>\n      <td>2.020000e+13</td>\n      <td>NaN</td>\n      <td>NaN</td>\n      <td>63스퀘어</td>\n      <td>http://tong.visitkorea.or.kr/cms/resource/86/2...</td>\n      <td>...</td>\n      <td>NaN</td>\n      <td>0.0</td>\n      <td>0.0</td>\n      <td>0.0</td>\n      <td>1833-7001</td>\n      <td>1985년 07월 27일</td>\n      <td>있음(약 800여 대 가능)</td>\n      <td>연중무휴</td>\n      <td>NaN</td>\n      <td>※ 월별로 운영시간 다르므로 홈페이지 참조</td>\n    </tr>\n    <tr>\n      <th>4</th>\n      <td>2614315</td>\n      <td>12</td>\n      <td>0.0</td>\n      <td>2.020000e+13</td>\n      <td>&lt;a href=\"https://blog.naver.com/playzone1\" tar...</td>\n      <td>2.020000e+13</td>\n      <td>NaN</td>\n      <td>NaN</td>\n      <td>AHC스파</td>\n      <td>http://tong.visitkorea.or.kr/cms/resource/05/2...</td>\n      <td>...</td>\n      <td>NaN</td>\n      <td>0.0</td>\n      <td>0.0</td>\n      <td>0.0</td>\n      <td>02-541-8239</td>\n      <td>NaN</td>\n      <td>NaN</td>\n      <td>매주 월요일 휴무</td>\n      <td>NaN</td>\n      <td>10:00 ~ 21:00</td>\n    </tr>\n  </tbody>\n</table>\n<p>5 rows × 38 columns</p>\n</div>"
     },
     "execution_count": 14,
     "metadata": {},
     "output_type": "execute_result"
    }
   ],
   "source": [
    "df = pd.read_csv(\"../data/TourAPI12.csv\")\n",
    "df.head()"
   ],
   "metadata": {
    "collapsed": false,
    "pycharm": {
     "name": "#%%\n"
    }
   }
  },
  {
   "cell_type": "code",
   "execution_count": 15,
   "outputs": [],
   "source": [
    "data = df.loc[:, [\"contentid\", \"contenttypeid\", \"title\", \"addr1\", \"booktour\", \"mapy\", \"mapx\", \"tel\", \"overview\", \"firstimage\", \"restdate\", \"usetime\", \"parking\", \"chkbabycarriage\", \"chkpet\", \"expagerange\", \"expguide\", \"heritage1\", \"heritage2\", \"heritage3\"]]"
   ],
   "metadata": {
    "collapsed": false,
    "pycharm": {
     "name": "#%%\n"
    }
   }
  },
  {
   "cell_type": "code",
   "execution_count": 16,
   "outputs": [
    {
     "data": {
      "text/plain": "   plcaeId  typeId     placeName             address  chkInTextbook  \\\n0  2611482      12  150년 수령 느티나무   서울 양천구 목4동 760-28            0.0   \n1  1825057      12    3.1독립선언기념탑  서울특별시 서대문구 통일로 251            0.0   \n2  1825460      12    3.1독립운동기념탑    서울특별시 중구 장충단로 91            0.0   \n3   127699      12         63스퀘어   서울특별시 영등포구 63로 36            0.0   \n4  2614315      12         AHC스파  서울특별시 강남구 도산대로 237            0.0   \n\n    latitude   longitude  tel  \\\n0  37.537686  126.868793  NaN   \n1  37.574508  126.955606  NaN   \n2  37.552956  127.001575  NaN   \n3  37.519867  126.940329  NaN   \n4  37.521772  127.033028  NaN   \n\n                                            overview  \\\n0  수령 150년된 느티나무 고목으로 이 느티나무는 이곳이 대규모 주택단지로 변모하기 ...   \n1  1919년 3월 1일 오후 2시 손병희 등 민족대표들은 태화관에서 독립선언식을 거행...   \n2  3.1독립운동기념탑은 일본 제국주의의 잔혹한 식민통치로부터 조국과 민족의 독립을 위...   \n3  63스퀘어는 대한민국 서울특별시 영등포구의 여의도에 있는 마천루이다. 지상 60층,...   \n4  한국의 K뷰티를 알리고 있는 AHC 코스메틱으로만 케어해 드리고 있는 AHC스파입니...   \n\n                                               image   restDate  \\\n0  http://tong.visitkorea.or.kr/cms/resource/79/2...       연중무휴   \n1  http://tong.visitkorea.or.kr/cms/resource/97/2...       연중개방   \n2  http://tong.visitkorea.or.kr/cms/resource/93/1...       연중무휴   \n3  http://tong.visitkorea.or.kr/cms/resource/86/2...       연중무휴   \n4  http://tong.visitkorea.or.kr/cms/resource/05/2...  매주 월요일 휴무   \n\n                   useTime       chkParking chkBabyCarriage chkPets  \\\n0                      NaN              NaN              없음      없음   \n1                    상시 개방               있음              없음      불가   \n2                      NaN              NaN              없음      없음   \n3  ※ 월별로 운영시간 다르므로 홈페이지 참조  있음(약 800여 대 가능)              없음      불가   \n4            10:00 ~ 21:00              NaN              없음      없음   \n\n  ageAvailable expGuide  chkWorldCultural  chkWorldNatural  chkWorldRecord  \n0          NaN      NaN               0.0              0.0             0.0  \n1          NaN      NaN               0.0              0.0             0.0  \n2          NaN      NaN               0.0              0.0             0.0  \n3          NaN      NaN               0.0              0.0             0.0  \n4          NaN      NaN               0.0              0.0             0.0  ",
      "text/html": "<div>\n<style scoped>\n    .dataframe tbody tr th:only-of-type {\n        vertical-align: middle;\n    }\n\n    .dataframe tbody tr th {\n        vertical-align: top;\n    }\n\n    .dataframe thead th {\n        text-align: right;\n    }\n</style>\n<table border=\"1\" class=\"dataframe\">\n  <thead>\n    <tr style=\"text-align: right;\">\n      <th></th>\n      <th>plcaeId</th>\n      <th>typeId</th>\n      <th>placeName</th>\n      <th>address</th>\n      <th>chkInTextbook</th>\n      <th>latitude</th>\n      <th>longitude</th>\n      <th>tel</th>\n      <th>overview</th>\n      <th>image</th>\n      <th>restDate</th>\n      <th>useTime</th>\n      <th>chkParking</th>\n      <th>chkBabyCarriage</th>\n      <th>chkPets</th>\n      <th>ageAvailable</th>\n      <th>expGuide</th>\n      <th>chkWorldCultural</th>\n      <th>chkWorldNatural</th>\n      <th>chkWorldRecord</th>\n    </tr>\n  </thead>\n  <tbody>\n    <tr>\n      <th>0</th>\n      <td>2611482</td>\n      <td>12</td>\n      <td>150년 수령 느티나무</td>\n      <td>서울 양천구 목4동 760-28</td>\n      <td>0.0</td>\n      <td>37.537686</td>\n      <td>126.868793</td>\n      <td>NaN</td>\n      <td>수령 150년된 느티나무 고목으로 이 느티나무는 이곳이 대규모 주택단지로 변모하기 ...</td>\n      <td>http://tong.visitkorea.or.kr/cms/resource/79/2...</td>\n      <td>연중무휴</td>\n      <td>NaN</td>\n      <td>NaN</td>\n      <td>없음</td>\n      <td>없음</td>\n      <td>NaN</td>\n      <td>NaN</td>\n      <td>0.0</td>\n      <td>0.0</td>\n      <td>0.0</td>\n    </tr>\n    <tr>\n      <th>1</th>\n      <td>1825057</td>\n      <td>12</td>\n      <td>3.1독립선언기념탑</td>\n      <td>서울특별시 서대문구 통일로 251</td>\n      <td>0.0</td>\n      <td>37.574508</td>\n      <td>126.955606</td>\n      <td>NaN</td>\n      <td>1919년 3월 1일 오후 2시 손병희 등 민족대표들은 태화관에서 독립선언식을 거행...</td>\n      <td>http://tong.visitkorea.or.kr/cms/resource/97/2...</td>\n      <td>연중개방</td>\n      <td>상시 개방</td>\n      <td>있음</td>\n      <td>없음</td>\n      <td>불가</td>\n      <td>NaN</td>\n      <td>NaN</td>\n      <td>0.0</td>\n      <td>0.0</td>\n      <td>0.0</td>\n    </tr>\n    <tr>\n      <th>2</th>\n      <td>1825460</td>\n      <td>12</td>\n      <td>3.1독립운동기념탑</td>\n      <td>서울특별시 중구 장충단로 91</td>\n      <td>0.0</td>\n      <td>37.552956</td>\n      <td>127.001575</td>\n      <td>NaN</td>\n      <td>3.1독립운동기념탑은 일본 제국주의의 잔혹한 식민통치로부터 조국과 민족의 독립을 위...</td>\n      <td>http://tong.visitkorea.or.kr/cms/resource/93/1...</td>\n      <td>연중무휴</td>\n      <td>NaN</td>\n      <td>NaN</td>\n      <td>없음</td>\n      <td>없음</td>\n      <td>NaN</td>\n      <td>NaN</td>\n      <td>0.0</td>\n      <td>0.0</td>\n      <td>0.0</td>\n    </tr>\n    <tr>\n      <th>3</th>\n      <td>127699</td>\n      <td>12</td>\n      <td>63스퀘어</td>\n      <td>서울특별시 영등포구 63로 36</td>\n      <td>0.0</td>\n      <td>37.519867</td>\n      <td>126.940329</td>\n      <td>NaN</td>\n      <td>63스퀘어는 대한민국 서울특별시 영등포구의 여의도에 있는 마천루이다. 지상 60층,...</td>\n      <td>http://tong.visitkorea.or.kr/cms/resource/86/2...</td>\n      <td>연중무휴</td>\n      <td>※ 월별로 운영시간 다르므로 홈페이지 참조</td>\n      <td>있음(약 800여 대 가능)</td>\n      <td>없음</td>\n      <td>불가</td>\n      <td>NaN</td>\n      <td>NaN</td>\n      <td>0.0</td>\n      <td>0.0</td>\n      <td>0.0</td>\n    </tr>\n    <tr>\n      <th>4</th>\n      <td>2614315</td>\n      <td>12</td>\n      <td>AHC스파</td>\n      <td>서울특별시 강남구 도산대로 237</td>\n      <td>0.0</td>\n      <td>37.521772</td>\n      <td>127.033028</td>\n      <td>NaN</td>\n      <td>한국의 K뷰티를 알리고 있는 AHC 코스메틱으로만 케어해 드리고 있는 AHC스파입니...</td>\n      <td>http://tong.visitkorea.or.kr/cms/resource/05/2...</td>\n      <td>매주 월요일 휴무</td>\n      <td>10:00 ~ 21:00</td>\n      <td>NaN</td>\n      <td>없음</td>\n      <td>없음</td>\n      <td>NaN</td>\n      <td>NaN</td>\n      <td>0.0</td>\n      <td>0.0</td>\n      <td>0.0</td>\n    </tr>\n  </tbody>\n</table>\n</div>"
     },
     "execution_count": 16,
     "metadata": {},
     "output_type": "execute_result"
    }
   ],
   "source": [
    "data.columns = [\"plcaeId\", \"typeId\", \"placeName\", \"address\", \"chkInTextbook\", \"latitude\", \"longitude\", \"tel\", \"overview\", \"image\", \"restDate\", \"useTime\", \"chkParking\", \"chkBabyCarriage\", \"chkPets\", \"ageAvailable\", \"expGuide\", \"chkWorldCultural\", \"chkWorldNatural\", \"chkWorldRecord\"]\n",
    "data.head()"
   ],
   "metadata": {
    "collapsed": false,
    "pycharm": {
     "name": "#%%\n"
    }
   }
  },
  {
   "cell_type": "code",
   "execution_count": 17,
   "outputs": [
    {
     "data": {
      "text/plain": "   plcaeId typeId     placeName             address chkInTextbook   latitude  \\\n0  2611482     12  150년 수령 느티나무   서울 양천구 목4동 760-28           0.0  37.537686   \n1  1825057     12    3.1독립선언기념탑  서울특별시 서대문구 통일로 251           0.0  37.574508   \n2  1825460     12    3.1독립운동기념탑    서울특별시 중구 장충단로 91           0.0  37.552956   \n3   127699     12         63스퀘어   서울특별시 영등포구 63로 36           0.0  37.519867   \n4  2614315     12         AHC스파  서울특별시 강남구 도산대로 237           0.0  37.521772   \n\n    longitude tel                                           overview  \\\n0  126.868793      수령 150년된 느티나무 고목으로 이 느티나무는 이곳이 대규모 주택단지로 변모하기 ...   \n1  126.955606      1919년 3월 1일 오후 2시 손병희 등 민족대표들은 태화관에서 독립선언식을 거행...   \n2  127.001575      3.1독립운동기념탑은 일본 제국주의의 잔혹한 식민통치로부터 조국과 민족의 독립을 위...   \n3  126.940329      63스퀘어는 대한민국 서울특별시 영등포구의 여의도에 있는 마천루이다. 지상 60층,...   \n4  127.033028      한국의 K뷰티를 알리고 있는 AHC 코스메틱으로만 케어해 드리고 있는 AHC스파입니...   \n\n                                               image   restDate  \\\n0  http://tong.visitkorea.or.kr/cms/resource/79/2...       연중무휴   \n1  http://tong.visitkorea.or.kr/cms/resource/97/2...       연중개방   \n2  http://tong.visitkorea.or.kr/cms/resource/93/1...       연중무휴   \n3  http://tong.visitkorea.or.kr/cms/resource/86/2...       연중무휴   \n4  http://tong.visitkorea.or.kr/cms/resource/05/2...  매주 월요일 휴무   \n\n                   useTime       chkParking chkBabyCarriage chkPets  \\\n0                                                        없음      없음   \n1                    상시 개방               있음              없음      불가   \n2                                                        없음      없음   \n3  ※ 월별로 운영시간 다르므로 홈페이지 참조  있음(약 800여 대 가능)              없음      불가   \n4            10:00 ~ 21:00                               없음      없음   \n\n  ageAvailable expGuide chkWorldCultural chkWorldNatural chkWorldRecord  \n0                                    0.0             0.0            0.0  \n1                                    0.0             0.0            0.0  \n2                                    0.0             0.0            0.0  \n3                                    0.0             0.0            0.0  \n4                                    0.0             0.0            0.0  ",
      "text/html": "<div>\n<style scoped>\n    .dataframe tbody tr th:only-of-type {\n        vertical-align: middle;\n    }\n\n    .dataframe tbody tr th {\n        vertical-align: top;\n    }\n\n    .dataframe thead th {\n        text-align: right;\n    }\n</style>\n<table border=\"1\" class=\"dataframe\">\n  <thead>\n    <tr style=\"text-align: right;\">\n      <th></th>\n      <th>plcaeId</th>\n      <th>typeId</th>\n      <th>placeName</th>\n      <th>address</th>\n      <th>chkInTextbook</th>\n      <th>latitude</th>\n      <th>longitude</th>\n      <th>tel</th>\n      <th>overview</th>\n      <th>image</th>\n      <th>restDate</th>\n      <th>useTime</th>\n      <th>chkParking</th>\n      <th>chkBabyCarriage</th>\n      <th>chkPets</th>\n      <th>ageAvailable</th>\n      <th>expGuide</th>\n      <th>chkWorldCultural</th>\n      <th>chkWorldNatural</th>\n      <th>chkWorldRecord</th>\n    </tr>\n  </thead>\n  <tbody>\n    <tr>\n      <th>0</th>\n      <td>2611482</td>\n      <td>12</td>\n      <td>150년 수령 느티나무</td>\n      <td>서울 양천구 목4동 760-28</td>\n      <td>0.0</td>\n      <td>37.537686</td>\n      <td>126.868793</td>\n      <td></td>\n      <td>수령 150년된 느티나무 고목으로 이 느티나무는 이곳이 대규모 주택단지로 변모하기 ...</td>\n      <td>http://tong.visitkorea.or.kr/cms/resource/79/2...</td>\n      <td>연중무휴</td>\n      <td></td>\n      <td></td>\n      <td>없음</td>\n      <td>없음</td>\n      <td></td>\n      <td></td>\n      <td>0.0</td>\n      <td>0.0</td>\n      <td>0.0</td>\n    </tr>\n    <tr>\n      <th>1</th>\n      <td>1825057</td>\n      <td>12</td>\n      <td>3.1독립선언기념탑</td>\n      <td>서울특별시 서대문구 통일로 251</td>\n      <td>0.0</td>\n      <td>37.574508</td>\n      <td>126.955606</td>\n      <td></td>\n      <td>1919년 3월 1일 오후 2시 손병희 등 민족대표들은 태화관에서 독립선언식을 거행...</td>\n      <td>http://tong.visitkorea.or.kr/cms/resource/97/2...</td>\n      <td>연중개방</td>\n      <td>상시 개방</td>\n      <td>있음</td>\n      <td>없음</td>\n      <td>불가</td>\n      <td></td>\n      <td></td>\n      <td>0.0</td>\n      <td>0.0</td>\n      <td>0.0</td>\n    </tr>\n    <tr>\n      <th>2</th>\n      <td>1825460</td>\n      <td>12</td>\n      <td>3.1독립운동기념탑</td>\n      <td>서울특별시 중구 장충단로 91</td>\n      <td>0.0</td>\n      <td>37.552956</td>\n      <td>127.001575</td>\n      <td></td>\n      <td>3.1독립운동기념탑은 일본 제국주의의 잔혹한 식민통치로부터 조국과 민족의 독립을 위...</td>\n      <td>http://tong.visitkorea.or.kr/cms/resource/93/1...</td>\n      <td>연중무휴</td>\n      <td></td>\n      <td></td>\n      <td>없음</td>\n      <td>없음</td>\n      <td></td>\n      <td></td>\n      <td>0.0</td>\n      <td>0.0</td>\n      <td>0.0</td>\n    </tr>\n    <tr>\n      <th>3</th>\n      <td>127699</td>\n      <td>12</td>\n      <td>63스퀘어</td>\n      <td>서울특별시 영등포구 63로 36</td>\n      <td>0.0</td>\n      <td>37.519867</td>\n      <td>126.940329</td>\n      <td></td>\n      <td>63스퀘어는 대한민국 서울특별시 영등포구의 여의도에 있는 마천루이다. 지상 60층,...</td>\n      <td>http://tong.visitkorea.or.kr/cms/resource/86/2...</td>\n      <td>연중무휴</td>\n      <td>※ 월별로 운영시간 다르므로 홈페이지 참조</td>\n      <td>있음(약 800여 대 가능)</td>\n      <td>없음</td>\n      <td>불가</td>\n      <td></td>\n      <td></td>\n      <td>0.0</td>\n      <td>0.0</td>\n      <td>0.0</td>\n    </tr>\n    <tr>\n      <th>4</th>\n      <td>2614315</td>\n      <td>12</td>\n      <td>AHC스파</td>\n      <td>서울특별시 강남구 도산대로 237</td>\n      <td>0.0</td>\n      <td>37.521772</td>\n      <td>127.033028</td>\n      <td></td>\n      <td>한국의 K뷰티를 알리고 있는 AHC 코스메틱으로만 케어해 드리고 있는 AHC스파입니...</td>\n      <td>http://tong.visitkorea.or.kr/cms/resource/05/2...</td>\n      <td>매주 월요일 휴무</td>\n      <td>10:00 ~ 21:00</td>\n      <td></td>\n      <td>없음</td>\n      <td>없음</td>\n      <td></td>\n      <td></td>\n      <td>0.0</td>\n      <td>0.0</td>\n      <td>0.0</td>\n    </tr>\n  </tbody>\n</table>\n</div>"
     },
     "execution_count": 17,
     "metadata": {},
     "output_type": "execute_result"
    }
   ],
   "source": [
    "for column in data.columns:\n",
    "    data.loc[pd.isna(data[column]), column] = \"\"\n",
    "data.head()"
   ],
   "metadata": {
    "collapsed": false,
    "pycharm": {
     "name": "#%%\n"
    }
   }
  },
  {
   "cell_type": "code",
   "execution_count": 18,
   "outputs": [],
   "source": [
    "data.loc[data[\"chkInTextbook\"] == 1.0, \"chkInTextbook\"] = True\n",
    "data.loc[data[\"chkInTextbook\"] != True, \"chkInTextbook\"] = False\n",
    "\n",
    "data.loc[data[\"chkParking\"] != \"\", \"chkParking\"] = True\n",
    "data.loc[data[\"chkParking\"] != True, \"chkParking\"] = False\n",
    "\n",
    "data.loc[data[\"chkBabyCarriage\"] == \"가능\", \"chkBabyCarriage\"] = True\n",
    "data.loc[data[\"chkBabyCarriage\"] != True, \"chkBabyCarriage\"] = False\n",
    "\n",
    "data.loc[data[\"chkPets\"] == \"가능\", \"chkPets\"] = True\n",
    "data.loc[data[\"chkPets\"] != True, \"chkPets\"] = False\n",
    "\n",
    "data.loc[data[\"chkWorldCultural\"] == 1.0, \"chkWorldCultural\"] = True\n",
    "data.loc[data[\"chkWorldCultural\"] != True, \"chkWorldCultural\"] = False\n",
    "\n",
    "data.loc[data[\"chkWorldNatural\"] == 1.0, \"chkWorldNatural\"] = True\n",
    "data.loc[data[\"chkWorldNatural\"] != True, \"chkWorldNatural\"] = False\n",
    "\n",
    "data.loc[data[\"chkWorldRecord\"] == 1.0, \"chkWorldRecord\"] = True\n",
    "data.loc[data[\"chkWorldRecord\"] != True, \"chkWorldRecord\"] = False\n"
   ],
   "metadata": {
    "collapsed": false,
    "pycharm": {
     "name": "#%%\n"
    }
   }
  },
  {
   "cell_type": "code",
   "execution_count": 19,
   "outputs": [
    {
     "data": {
      "text/plain": "      plcaeId typeId                                  placeName  \\\n312    126525     12      서울 선릉(성종과 정현왕후)과 정릉(중종) [유네스코 세계문화유산]   \n326    250396     12               서울 의릉(경종,선의왕후) [유네스코 세계문화유산]   \n328    127616     12                  서울 정릉(신덕왕후) [유네스코 세계문화유산]   \n330    126526     12        서울 태릉(문정왕후)과 강릉(인순왕후) [유네스코 세계문화유산]   \n332    126530     12  서울 헌릉(태종,원경왕후)과 인릉(순조,순원왕후) [유네스코 세계문화유산]   \n...       ...    ...                                        ...   \n11333  126452     12                           만장굴 (제주도 국가지질공원)   \n11525  478113     12                         용천동굴 [유네스코 세계자연유산]   \n11570  477920     12                     제주 당처물동굴 [유네스코 세계자연유산]   \n11579  478140     12                   제주 선흘리 벵뒤굴 [유네스코 세계자연유산]   \n11672  127635     12                           한라산 (제주도 국가지질공원)   \n\n                         address chkInTextbook   latitude   longitude tel  \\\n312          서울특별시 강남구 선릉로100길 1         False  37.507421   127.04718       \n326      서울특별시 성북구 화랑로32길 146-20         False  37.603549  127.058235       \n328        서울특별시 성북구 아리랑로19길 116         False  37.602351  127.006345       \n330            서울특별시 노원구 화랑로 681         False   37.63414  127.097158       \n332         서울특별시 서초구 헌인릉길 36-10         False  37.465357  127.083709       \n...                          ...           ...        ...         ...  ..   \n11333   제주특별자치도 제주시 구좌읍 만장굴길 182         False  33.528048  126.770679       \n11525        제주특별자치도 제주시 구좌읍 월정리         False  33.548507  126.778361       \n11570        제주특별자치도 제주시 구좌읍 월정리         False  33.556839  126.784827       \n11579            제주특별자치도 제주시 조천읍         False  33.455749  126.717732       \n11672  제주특별자치도 제주시 1100로 2070-61          True  33.392731  126.494872       \n\n                                                overview  \\\n312    선릉에는 조선 제9대 성종과 그 계비 정현왕후 윤씨를 모신 선릉과 제11대 중종을 ...   \n326    조선 20대 경종(재위 1720∼1724)과 그의 비인 선의왕후의 무덤이다. 경종은...   \n328    정릉은 조선 태조 이성계의 후비 신덕왕후 강씨의 묘소이다. 태조는 고려의 풍습대로 ...   \n330    사적 태릉강릉에는 조선왕조 제11대 중종의 계비인 문정왕후 윤씨를 모신 태릉과 13...   \n332    조선 제3대 태종과 그의 비 원경왕후의 묘가 나란히 모셔져 있는 헌릉,그리고 제23...   \n...                                                  ...   \n11333  제주시 구좌읍 김녕리에 위치하는 만장굴은 전체길이 약 7,400 m, 최대 높이 약...   \n11525  용천동굴은 제주도 용암동굴의 가장 전형적인 형태를 보여주고 있는 대형 동굴(총길이 ...   \n11570  당처물 동굴은 제주시에서 1132번 국도를 따라 동쪽으로 약 27㎞쯤 떨어진 곳에 ...   \n11579  벵뒤굴은 동굴 총길이가 4,481m로 세계적으로 가장 복잡한 미로형 동굴에 속하는 ...   \n11672  사방이 바다로 둘러싸인 환상의 섬 제주도, 이 섬의 한 가운데 1,950m의 높이로...   \n\n                                                   image    restDate  \\\n312                                                           매주 월요일   \n326    http://tong.visitkorea.or.kr/cms/resource/80/2...      매주 월요일   \n328    http://tong.visitkorea.or.kr/cms/resource/91/2...      매주 월요일   \n330    http://tong.visitkorea.or.kr/cms/resource/16/2...      매주 월요일   \n332    http://tong.visitkorea.or.kr/cms/resource/42/1...      매주 월요일   \n...                                                  ...         ...   \n11333  http://tong.visitkorea.or.kr/cms/resource/04/2...  매월 첫째주 수요일   \n11525                                                                  \n11570                                                                  \n11579                                                                  \n11672  http://tong.visitkorea.or.kr/cms/resource/25/2...        연중무휴   \n\n                                                 useTime chkParking  \\\n312    * 2월 : 06:00~18:00(매표 ~17:00)<br />\\n* 3월~10월 ...       True   \n326    2~5월, 9~10월 09:00~18:00<br />\\n6~8월 09:00~18:3...       True   \n328    * 2~5월/9~10월 06:00~18:00<br />\\n* 6~8월 06:00~1...       True   \n330    2~5월, 9~10월 09:00~18:00<br />\\n6~8월 09:00~18:3...       True   \n332    2~5월, 9~10월 09:00~18:00<br />\\n6~8월 09:00~18:3...       True   \n...                                                  ...        ...   \n11333  [관람시간] 09:00 ~ 18:00<br />\\n※ 입장마감 17:10<br />...       True   \n11525                                                         False   \n11570                                                         False   \n11579                                                         False   \n11672                                                          True   \n\n      chkBabyCarriage chkPets ageAvailable  \\\n312             False   False                \n326             False   False                \n328             False   False          전연령   \n330             False   False                \n332             False   False                \n...               ...     ...          ...   \n11333           False   False                \n11525           False   False                \n11570           False   False                \n11579           False   False                \n11672           False   False                \n\n                                                expGuide chkWorldCultural  \\\n312                                                                  True   \n326                                                                  True   \n328                                                                  True   \n330                                                                  True   \n332                                                                  True   \n...                                                  ...              ...   \n11333                                                                True   \n11525                                                                True   \n11570                                                                True   \n11579                                                                True   \n11672  자연해설체험탐방 &gt;&gt; <a href=\"http://www.hallasan...             True   \n\n      chkWorldNatural chkWorldRecord  \n312             False          False  \n326             False          False  \n328             False          False  \n330             False          False  \n332             False          False  \n...               ...            ...  \n11333           False          False  \n11525           False          False  \n11570           False          False  \n11579           False          False  \n11672           False          False  \n\n[62 rows x 20 columns]",
      "text/html": "<div>\n<style scoped>\n    .dataframe tbody tr th:only-of-type {\n        vertical-align: middle;\n    }\n\n    .dataframe tbody tr th {\n        vertical-align: top;\n    }\n\n    .dataframe thead th {\n        text-align: right;\n    }\n</style>\n<table border=\"1\" class=\"dataframe\">\n  <thead>\n    <tr style=\"text-align: right;\">\n      <th></th>\n      <th>plcaeId</th>\n      <th>typeId</th>\n      <th>placeName</th>\n      <th>address</th>\n      <th>chkInTextbook</th>\n      <th>latitude</th>\n      <th>longitude</th>\n      <th>tel</th>\n      <th>overview</th>\n      <th>image</th>\n      <th>restDate</th>\n      <th>useTime</th>\n      <th>chkParking</th>\n      <th>chkBabyCarriage</th>\n      <th>chkPets</th>\n      <th>ageAvailable</th>\n      <th>expGuide</th>\n      <th>chkWorldCultural</th>\n      <th>chkWorldNatural</th>\n      <th>chkWorldRecord</th>\n    </tr>\n  </thead>\n  <tbody>\n    <tr>\n      <th>312</th>\n      <td>126525</td>\n      <td>12</td>\n      <td>서울 선릉(성종과 정현왕후)과 정릉(중종) [유네스코 세계문화유산]</td>\n      <td>서울특별시 강남구 선릉로100길 1</td>\n      <td>False</td>\n      <td>37.507421</td>\n      <td>127.04718</td>\n      <td></td>\n      <td>선릉에는 조선 제9대 성종과 그 계비 정현왕후 윤씨를 모신 선릉과 제11대 중종을 ...</td>\n      <td></td>\n      <td>매주 월요일</td>\n      <td>* 2월 : 06:00~18:00(매표 ~17:00)&lt;br /&gt;\\n* 3월~10월 ...</td>\n      <td>True</td>\n      <td>False</td>\n      <td>False</td>\n      <td></td>\n      <td></td>\n      <td>True</td>\n      <td>False</td>\n      <td>False</td>\n    </tr>\n    <tr>\n      <th>326</th>\n      <td>250396</td>\n      <td>12</td>\n      <td>서울 의릉(경종,선의왕후) [유네스코 세계문화유산]</td>\n      <td>서울특별시 성북구 화랑로32길 146-20</td>\n      <td>False</td>\n      <td>37.603549</td>\n      <td>127.058235</td>\n      <td></td>\n      <td>조선 20대 경종(재위 1720∼1724)과 그의 비인 선의왕후의 무덤이다. 경종은...</td>\n      <td>http://tong.visitkorea.or.kr/cms/resource/80/2...</td>\n      <td>매주 월요일</td>\n      <td>2~5월, 9~10월 09:00~18:00&lt;br /&gt;\\n6~8월 09:00~18:3...</td>\n      <td>True</td>\n      <td>False</td>\n      <td>False</td>\n      <td></td>\n      <td></td>\n      <td>True</td>\n      <td>False</td>\n      <td>False</td>\n    </tr>\n    <tr>\n      <th>328</th>\n      <td>127616</td>\n      <td>12</td>\n      <td>서울 정릉(신덕왕후) [유네스코 세계문화유산]</td>\n      <td>서울특별시 성북구 아리랑로19길 116</td>\n      <td>False</td>\n      <td>37.602351</td>\n      <td>127.006345</td>\n      <td></td>\n      <td>정릉은 조선 태조 이성계의 후비 신덕왕후 강씨의 묘소이다. 태조는 고려의 풍습대로 ...</td>\n      <td>http://tong.visitkorea.or.kr/cms/resource/91/2...</td>\n      <td>매주 월요일</td>\n      <td>* 2~5월/9~10월 06:00~18:00&lt;br /&gt;\\n* 6~8월 06:00~1...</td>\n      <td>True</td>\n      <td>False</td>\n      <td>False</td>\n      <td>전연령</td>\n      <td></td>\n      <td>True</td>\n      <td>False</td>\n      <td>False</td>\n    </tr>\n    <tr>\n      <th>330</th>\n      <td>126526</td>\n      <td>12</td>\n      <td>서울 태릉(문정왕후)과 강릉(인순왕후) [유네스코 세계문화유산]</td>\n      <td>서울특별시 노원구 화랑로 681</td>\n      <td>False</td>\n      <td>37.63414</td>\n      <td>127.097158</td>\n      <td></td>\n      <td>사적 태릉강릉에는 조선왕조 제11대 중종의 계비인 문정왕후 윤씨를 모신 태릉과 13...</td>\n      <td>http://tong.visitkorea.or.kr/cms/resource/16/2...</td>\n      <td>매주 월요일</td>\n      <td>2~5월, 9~10월 09:00~18:00&lt;br /&gt;\\n6~8월 09:00~18:3...</td>\n      <td>True</td>\n      <td>False</td>\n      <td>False</td>\n      <td></td>\n      <td></td>\n      <td>True</td>\n      <td>False</td>\n      <td>False</td>\n    </tr>\n    <tr>\n      <th>332</th>\n      <td>126530</td>\n      <td>12</td>\n      <td>서울 헌릉(태종,원경왕후)과 인릉(순조,순원왕후) [유네스코 세계문화유산]</td>\n      <td>서울특별시 서초구 헌인릉길 36-10</td>\n      <td>False</td>\n      <td>37.465357</td>\n      <td>127.083709</td>\n      <td></td>\n      <td>조선 제3대 태종과 그의 비 원경왕후의 묘가 나란히 모셔져 있는 헌릉,그리고 제23...</td>\n      <td>http://tong.visitkorea.or.kr/cms/resource/42/1...</td>\n      <td>매주 월요일</td>\n      <td>2~5월, 9~10월 09:00~18:00&lt;br /&gt;\\n6~8월 09:00~18:3...</td>\n      <td>True</td>\n      <td>False</td>\n      <td>False</td>\n      <td></td>\n      <td></td>\n      <td>True</td>\n      <td>False</td>\n      <td>False</td>\n    </tr>\n    <tr>\n      <th>...</th>\n      <td>...</td>\n      <td>...</td>\n      <td>...</td>\n      <td>...</td>\n      <td>...</td>\n      <td>...</td>\n      <td>...</td>\n      <td>...</td>\n      <td>...</td>\n      <td>...</td>\n      <td>...</td>\n      <td>...</td>\n      <td>...</td>\n      <td>...</td>\n      <td>...</td>\n      <td>...</td>\n      <td>...</td>\n      <td>...</td>\n      <td>...</td>\n      <td>...</td>\n    </tr>\n    <tr>\n      <th>11333</th>\n      <td>126452</td>\n      <td>12</td>\n      <td>만장굴 (제주도 국가지질공원)</td>\n      <td>제주특별자치도 제주시 구좌읍 만장굴길 182</td>\n      <td>False</td>\n      <td>33.528048</td>\n      <td>126.770679</td>\n      <td></td>\n      <td>제주시 구좌읍 김녕리에 위치하는 만장굴은 전체길이 약 7,400 m, 최대 높이 약...</td>\n      <td>http://tong.visitkorea.or.kr/cms/resource/04/2...</td>\n      <td>매월 첫째주 수요일</td>\n      <td>[관람시간] 09:00 ~ 18:00&lt;br /&gt;\\n※ 입장마감 17:10&lt;br /&gt;...</td>\n      <td>True</td>\n      <td>False</td>\n      <td>False</td>\n      <td></td>\n      <td></td>\n      <td>True</td>\n      <td>False</td>\n      <td>False</td>\n    </tr>\n    <tr>\n      <th>11525</th>\n      <td>478113</td>\n      <td>12</td>\n      <td>용천동굴 [유네스코 세계자연유산]</td>\n      <td>제주특별자치도 제주시 구좌읍 월정리</td>\n      <td>False</td>\n      <td>33.548507</td>\n      <td>126.778361</td>\n      <td></td>\n      <td>용천동굴은 제주도 용암동굴의 가장 전형적인 형태를 보여주고 있는 대형 동굴(총길이 ...</td>\n      <td></td>\n      <td></td>\n      <td></td>\n      <td>False</td>\n      <td>False</td>\n      <td>False</td>\n      <td></td>\n      <td></td>\n      <td>True</td>\n      <td>False</td>\n      <td>False</td>\n    </tr>\n    <tr>\n      <th>11570</th>\n      <td>477920</td>\n      <td>12</td>\n      <td>제주 당처물동굴 [유네스코 세계자연유산]</td>\n      <td>제주특별자치도 제주시 구좌읍 월정리</td>\n      <td>False</td>\n      <td>33.556839</td>\n      <td>126.784827</td>\n      <td></td>\n      <td>당처물 동굴은 제주시에서 1132번 국도를 따라 동쪽으로 약 27㎞쯤 떨어진 곳에 ...</td>\n      <td></td>\n      <td></td>\n      <td></td>\n      <td>False</td>\n      <td>False</td>\n      <td>False</td>\n      <td></td>\n      <td></td>\n      <td>True</td>\n      <td>False</td>\n      <td>False</td>\n    </tr>\n    <tr>\n      <th>11579</th>\n      <td>478140</td>\n      <td>12</td>\n      <td>제주 선흘리 벵뒤굴 [유네스코 세계자연유산]</td>\n      <td>제주특별자치도 제주시 조천읍</td>\n      <td>False</td>\n      <td>33.455749</td>\n      <td>126.717732</td>\n      <td></td>\n      <td>벵뒤굴은 동굴 총길이가 4,481m로 세계적으로 가장 복잡한 미로형 동굴에 속하는 ...</td>\n      <td></td>\n      <td></td>\n      <td></td>\n      <td>False</td>\n      <td>False</td>\n      <td>False</td>\n      <td></td>\n      <td></td>\n      <td>True</td>\n      <td>False</td>\n      <td>False</td>\n    </tr>\n    <tr>\n      <th>11672</th>\n      <td>127635</td>\n      <td>12</td>\n      <td>한라산 (제주도 국가지질공원)</td>\n      <td>제주특별자치도 제주시 1100로 2070-61</td>\n      <td>True</td>\n      <td>33.392731</td>\n      <td>126.494872</td>\n      <td></td>\n      <td>사방이 바다로 둘러싸인 환상의 섬 제주도, 이 섬의 한 가운데 1,950m의 높이로...</td>\n      <td>http://tong.visitkorea.or.kr/cms/resource/25/2...</td>\n      <td>연중무휴</td>\n      <td></td>\n      <td>True</td>\n      <td>False</td>\n      <td>False</td>\n      <td></td>\n      <td>자연해설체험탐방 &amp;gt;&amp;gt; &lt;a href=\"http://www.hallasan...</td>\n      <td>True</td>\n      <td>False</td>\n      <td>False</td>\n    </tr>\n  </tbody>\n</table>\n<p>62 rows × 20 columns</p>\n</div>"
     },
     "execution_count": 19,
     "metadata": {},
     "output_type": "execute_result"
    }
   ],
   "source": [
    "\n",
    "data[data[\"chkWorldCultural\"] == True]"
   ],
   "metadata": {
    "collapsed": false,
    "pycharm": {
     "name": "#%%\n"
    }
   }
  },
  {
   "cell_type": "code",
   "execution_count": 20,
   "outputs": [],
   "source": [
    "data.to_csv(\"../data/TourAPI12_a.csv\", index=False, encoding=\"utf-8\")"
   ],
   "metadata": {
    "collapsed": false,
    "pycharm": {
     "name": "#%%\n"
    }
   }
  }
 ],
 "metadata": {
  "kernelspec": {
   "display_name": "Python 3",
   "language": "python",
   "name": "python3"
  },
  "language_info": {
   "codemirror_mode": {
    "name": "ipython",
    "version": 2
   },
   "file_extension": ".py",
   "mimetype": "text/x-python",
   "name": "python",
   "nbconvert_exporter": "python",
   "pygments_lexer": "ipython2",
   "version": "2.7.6"
  }
 },
 "nbformat": 4,
 "nbformat_minor": 0
}